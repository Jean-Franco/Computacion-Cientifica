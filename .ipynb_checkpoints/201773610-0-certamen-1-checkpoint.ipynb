{
 "cells": [
  {
   "cell_type": "markdown",
   "metadata": {},
   "source": [
    "\n",
    "<center>\n",
    "    <h1> INF285 - Computación Científica </h1>\n",
    "    <h1> Certamen 1 </h1>\n",
    "    <h2> Nombre: Lucio Fondón </h2>\n",
    "    <h2> rol: 201773610-0 </h2>\n",
    "\n",
    "</center>\n",
    "\n",
    "<p>\n",
    "\n",
    "</p>"
   ]
  },
  {
   "cell_type": "markdown",
   "metadata": {},
   "source": [
    "# Pregunta 1"
   ]
  },
  {
   "cell_type": "markdown",
   "metadata": {},
   "source": [
    "1) Tenemos $Y = XA_1 + B_1 $ y $Y = A_2X + B_2 $. Si resolvemos el sistema, nos queda:"
   ]
  },
  {
   "cell_type": "markdown",
   "metadata": {},
   "source": [
    "\\begin{align*}\n",
    "XA_1 - A_2X = B_2 - B_1\n",
    "\\end{align*}"
   ]
  },
  {
   "cell_type": "markdown",
   "metadata": {},
   "source": [
    "\\begin{align*}\n",
    "\\begin{bmatrix}\n",
    "x_1 & x_3\\\\\n",
    "x_2 & x_4\n",
    "\\end{bmatrix} \\cdot\n",
    "\\begin{bmatrix}\n",
    "a_{11} & a_{13} \\\\\n",
    "a_{12} & a_{14} \\\\\n",
    "\\end{bmatrix} - \n",
    "\\begin{bmatrix}\n",
    "a_{21} & a_{23} \\\\\n",
    "a_{22} & a_{24} \\\\\n",
    "\\end{bmatrix} \\cdot\n",
    "\\begin{bmatrix}\n",
    "x_1 & x_3\\\\\n",
    "x_2 & x_4\n",
    "\\end{bmatrix} = \n",
    "\\begin{bmatrix}\n",
    "b_{21} & b_{23}\\\\\n",
    "b_{22} & b_{24}\\\\\n",
    "\\end{bmatrix} -\n",
    "\\begin{bmatrix}\n",
    "b_{11} & b_{13}\\\\\n",
    "b_{12} & b_{14}\\\\\n",
    "\\end{bmatrix}\n",
    "\\end{align*}"
   ]
  },
  {
   "cell_type": "markdown",
   "metadata": {},
   "source": [
    "El cual queda finalmente:"
   ]
  },
  {
   "cell_type": "markdown",
   "metadata": {},
   "source": [
    "Ecuacion 1\n",
    "\\begin{align*}\n",
    "\\begin{bmatrix}\n",
    "x_1(a_{11} - a_{21}) + x_3a_{12} -x_2a_{23} & x_3(a_{14} - a_{21}) + x_1a_{13} - x_4a_{23}\\\\\n",
    "x_2(a_{11} - a_{24}) + x_4a_{12} -x_1a_{22} & x_4(a_{14} - a_{24}) + x_2a_{13} - x_3a_{22}\n",
    "\\end{bmatrix} = \n",
    "\\begin{bmatrix}\n",
    "b_{21} - b_{11} & b_{23}-b_{13}\\\\\n",
    "b_{22} - b_{12} & b_{24} - b_{14}\\\\\n",
    "\\end{bmatrix}\n",
    "\\end{align*} "
   ]
  },
  {
   "cell_type": "markdown",
   "metadata": {},
   "source": [
    "Ahora, podemos hacer $Cx = b$: "
   ]
  },
  {
   "cell_type": "markdown",
   "metadata": {},
   "source": [
    "\\begin{align*}\n",
    "\\begin{bmatrix}\n",
    "c_{11} & c_{12} & c_{13} & c_{14}\\\\\n",
    "c_{21} & c_{22} & c_{23} & c_{24}\\\\\n",
    "c_{31} & c_{32} & c_{33} & c_{34}\\\\\n",
    "c_{41} & c_{42} & c_{43} & c_{44}\\\\\n",
    "\\end{bmatrix} \\cdot \\begin{bmatrix}\n",
    "x_1\\\\\n",
    "x_3\\\\\n",
    "x_2\\\\\n",
    "x_4\n",
    "\\end{bmatrix}= \\begin{bmatrix}\n",
    "b_{21} - b_{11} & b_{23}-b_{13}\\\\\n",
    "b_{22} - b_{12} & b_{24} - b_{14}\\\\\n",
    "\\end{bmatrix}\n",
    "\\end{align*}"
   ]
  },
  {
   "cell_type": "markdown",
   "metadata": {},
   "source": [
    "Y podemos obtener los valores de $c_{ij}$ con lo calculado anteriormente, haciendo $A_1 = A_2$, quedando:"
   ]
  },
  {
   "cell_type": "markdown",
   "metadata": {},
   "source": [
    "\\begin{align*}\n",
    "\\begin{bmatrix}\n",
    "0 & a_{12} & -a_{13} & 0\\\\\n",
    "-a_{12} & 0 & a_{11}-a_{14} & -a_{12}\\\\\n",
    "a_{13} & a_{14}-a_{11} & 0 & -a_{13}\\\\\n",
    "0 & -a_{12} & a_{13} & 0\\\\\n",
    "\\end{bmatrix} \\cdot \\begin{bmatrix}\n",
    "x_1\\\\\n",
    "x_3\\\\\n",
    "x_2\\\\\n",
    "x_4\n",
    "\\end{bmatrix}= \\begin{bmatrix}\n",
    "b_{21} - b_{11} & b_{23}-b_{13}\\\\\n",
    "b_{22} - b_{12} & b_{24} - b_{14}\\\\\n",
    "\\end{bmatrix}\n",
    "\\end{align*}"
   ]
  },
  {
   "cell_type": "markdown",
   "metadata": {},
   "source": [
    "Ahora, notemos que la fila 1 y la fila 4 son linealmente dependientes, debido a que $F1  = -F4$, podemos decir que $det(C) = 0$ (no es invertible), ya que habrán más incógnitas que ecuaciones. Entonces, no existirá una solución única en el caso que $A_1 = A_2$, es decir existirán infinitas soluciones"
   ]
  },
  {
   "cell_type": "markdown",
   "metadata": {},
   "source": [
    "2) Usando la ecuación 1, pero dejando todos los valores de $A_{1k}$ en cero, queda:"
   ]
  },
  {
   "cell_type": "markdown",
   "metadata": {},
   "source": [
    "Ecuacion 2\n",
    "\\begin{align*}\n",
    "\\begin{bmatrix}\n",
    "x_1(- a_{21})  -x_2a_{23} & x_3(- a_{21}) - x_4a_{23}\\\\\n",
    "x_2(- a_{24})  -x_1a_{22} & x_4(- a_{24}) - x_3a_{22}\n",
    "\\end{bmatrix} = \n",
    "\\begin{bmatrix}\n",
    "b_{21} - b_{11} & b_{23}-b_{13}\\\\\n",
    "b_{22} - b_{12} & b_{24} - b_{14}\\\\\n",
    "\\end{bmatrix}\n",
    "\\end{align*} "
   ]
  },
  {
   "cell_type": "markdown",
   "metadata": {},
   "source": [
    "Entonces, expresándolo en la foma $Cx=b$:"
   ]
  },
  {
   "cell_type": "markdown",
   "metadata": {},
   "source": [
    "\\begin{align*}\n",
    "\\begin{bmatrix}\n",
    "-a_{21} & 0 & -a_{23} & 0\\\\\n",
    "0 & -a_{21} & 0 & -a_{23}\\\\\n",
    "-a_{22} & a_{24} & 0 & 0\\\\\n",
    "0 & -a_{22} & 0 & -a_{24}\\\\\n",
    "\\end{bmatrix} \\cdot \\begin{bmatrix}\n",
    "x_1\\\\\n",
    "x_3\\\\\n",
    "x_2\\\\\n",
    "x_4\n",
    "\\end{bmatrix}= \\begin{bmatrix}\n",
    "b_{21} - b_{11} & b_{23}-b_{13}\\\\\n",
    "b_{22} - b_{12} & b_{24} - b_{14}\\\\\n",
    "\\end{bmatrix}\n",
    "\\end{align*}"
   ]
  },
  {
   "cell_type": "markdown",
   "metadata": {},
   "source": [
    "La matriz anterior si posee inversa, por lo tanto si existe solución única para el problema modificado, la cual viene dada por:"
   ]
  },
  {
   "cell_type": "markdown",
   "metadata": {},
   "source": [
    "\\begin{align*}\n",
    "\\begin{pmatrix}0&-\\frac{a_{24}^2}{a_{22}\\left(a_{21}a_{24}-a_{23}a_{22}\\right)}&-\\frac{1}{a_{22}}&\\frac{a_{23}a_{24}}{a_{22}\\left(a_{21}a_{24}-a_{23}a_{22}\\right)}\\\\ 0&-\\frac{a_{24}}{a_{21}a_{24}-a_{23}a_{22}}&0&\\frac{a_{23}}{-a_{23}a_{22}+a_{21}a_{24}}\\\\ -\\frac{1}{a_{23}}&\\frac{a_{21}a_{24}^2}{a_{23}a_{22}\\left(a_{21}a_{24}-a_{23}a_{22}\\right)}&\\frac{a_{21}}{a_{23}a_{22}}&-\\frac{a_{21}a_{24}}{a_{22}\\left(a_{21}a_{24}-a_{23}a_{22}\\right)}\\\\ 0&\\frac{a_{22}}{-a_{23}a_{22}+a_{21}a_{24}}&0&-\\frac{a_{21}}{-a_{23}a_{22}+a_{21}a_{24}}\\end{pmatrix}\n",
    "\\end{align*}"
   ]
  },
  {
   "cell_type": "markdown",
   "metadata": {},
   "source": [
    "3) Usando $Cx = b$ generalizada:\n",
    "\\begin{align*}\n",
    "\\begin{bmatrix}\n",
    "c_{11} & c_{12} & c_{13} & c_{14}\\\\\n",
    "c_{21} & c_{22} & c_{23} & c_{24}\\\\\n",
    "c_{31} & c_{32} & c_{33} & c_{34}\\\\\n",
    "c_{41} & c_{42} & c_{43} & c_{44}\\\\\n",
    "\\end{bmatrix} \\cdot \\begin{bmatrix}\n",
    "x_1\\\\\n",
    "x_3\\\\\n",
    "x_2\\\\\n",
    "x_4\n",
    "\\end{bmatrix}= \\begin{bmatrix}\n",
    "b_{21} - b_{11} & b_{23}-b_{13}\\\\\n",
    "b_{22} - b_{12} & b_{24} - b_{14}\\\\\n",
    "\\end{bmatrix}\n",
    "\\end{align*}\n",
    "\n",
    "Junto con la ecuación 1\n",
    "\\begin{align*}\n",
    "\\begin{bmatrix}\n",
    "x_1(a_{11} - a_{21}) + x_3a_{12} -x_2a_{23} & x_3(a_{14} - a_{21}) + x_1a_{13} - x_4a_{23}\\\\\n",
    "x_2(a_{11} - a_{24}) + x_4a_{12} -x_1a_{22} & x_4(a_{14} - a_{24}) + x_2a_{13} - x_3a_{22}\n",
    "\\end{bmatrix} = \n",
    "\\begin{bmatrix}\n",
    "b_{21} - b_{11} & b_{23}-b_{13}\\\\\n",
    "b_{22} - b_{12} & b_{24} - b_{14}\\\\\n",
    "\\end{bmatrix}\n",
    "\\end{align*} \n",
    "\n",
    "Reemplazamos los valores de $A_1$ y $A_2$ dados en el enunciado:"
   ]
  },
  {
   "cell_type": "markdown",
   "metadata": {},
   "source": [
    "$A_1 =\n",
    "\\begin{bmatrix}\n",
    "0.0487248808 & 0.2891096598\\\\\n",
    "0.7209663468 & 0.0216162499\n",
    "\\end{bmatrix}$\n",
    "\n",
    "$A_2 =\n",
    "\\begin{bmatrix}\n",
    "0.0487248808 & 0.0507732567\\\\\n",
    "0.302271894 & 0.6639102946\n",
    "\\end{bmatrix}$"
   ]
  },
  {
   "cell_type": "markdown",
   "metadata": {},
   "source": [
    "Ahora, nuestro vector $Cx = b$ queda:"
   ]
  },
  {
   "cell_type": "markdown",
   "metadata": {},
   "source": [
    "\\begin{align*}\n",
    "\\begin{bmatrix}\n",
    "a_{11}-a_{21} & a_{12} & -a_{23} & 0\\\\\n",
    "a_{13} & a_{14}-a_{21} & 0 & -a_{23}\\\\\n",
    "-a_{22} & a_{11}-a_{24} & 0 & a_{12}\\\\\n",
    "0 & -a_{22} & a_{13} & a_{14}-a_{24}\\\\\n",
    "\\end{bmatrix} \\cdot \\begin{bmatrix}\n",
    "x_1\\\\\n",
    "x_3\\\\\n",
    "x_2\\\\\n",
    "x_4\n",
    "\\end{bmatrix}= \\begin{bmatrix}\n",
    "b_{21} - b_{11} & b_{23}-b_{13}\\\\\n",
    "b_{22} - b_{12} & b_{24} - b_{14}\\\\\n",
    "\\end{bmatrix}\n",
    "\\end{align*}"
   ]
  },
  {
   "cell_type": "markdown",
   "metadata": {},
   "source": [
    "Si notamos, podemos ver que nuestro pivote $a_{11} - a_{21} = 0$, dado que esos coeficientes son iguales en $A_1$ y $A_2$"
   ]
  }
 ],
 "metadata": {
  "kernelspec": {
   "display_name": "Python 3",
   "language": "python",
   "name": "python3"
  },
  "language_info": {
   "codemirror_mode": {
    "name": "ipython",
    "version": 3
   },
   "file_extension": ".py",
   "mimetype": "text/x-python",
   "name": "python",
   "nbconvert_exporter": "python",
   "pygments_lexer": "ipython3",
   "version": "3.9.1"
  }
 },
 "nbformat": 4,
 "nbformat_minor": 4
}
