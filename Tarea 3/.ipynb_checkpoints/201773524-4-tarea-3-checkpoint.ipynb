{
 "cells": [
  {
   "cell_type": "markdown",
   "metadata": {
    "id": "53D-sEY9td13"
   },
   "source": [
    "<center>\n",
    "    <h1> INF285 - Computación Científica</h1>\n",
    "    <h1> Tarea 3: Interpolación y pinceladas de integración numérica </h1>                \n",
    "    <h4> 2021 </h4>\n",
    "</center>"
   ]
  },
  {
   "cell_type": "markdown",
   "metadata": {
    "id": "HskVa5HNtf7S"
   },
   "source": [
    "# Instrucciones\n",
    "* La tarea es individual. Sin embargo se invita a todos l@s estudiantes a que discutan entre ustedes las preguntas, pero luego implementen de forma individual su tarea.\n",
    "* Las consultas sobre las tareas se deben realizar por medio de la plataforma Aula.\n",
    "* La tarea debe ser realizada en `Jupyter Notebook` (`Python3`).\n",
    "* Se evaluará la correcta utilización de librerías `NumPy`, `SciPy`, entre otras, así como la correcta implementación de algoritmos de forma vectorizada.\n",
    "* **No modifique la firma de las funciones** (a menos que se le diga lo contrario) y respete el output que se le exije. **En caso de no respetar esta regla la función se considerará errónea y obtendrá la nota 0.**\n",
    "* **Asegúrese de que su notebook se ejecute de forma correcta en el orden de las celdas establecido.** Una forma de verificar esto es reiniciar el kernel del notebook y ejecutar todas las celdas nuevamente. **En caso de que su notebook no logre ejecutarse de esta forma se evaluará con nota 0.**  \n",
    "*  **El archivo de entrega debe denominarse ROL-tarea-numero.ipynb**. _De no respetarse este formato existirá un descuento de **50 puntos**_.\n",
    "* **No realice prints ni pida inputs**, entregue solo las funciones solicitadas. _De no respetarse este formato existirá un descuento de 50 puntos._\n",
    "* No se revisarán funciones incompletas.\n",
    "* No se revisarán tareas fuera de plazo.\n",
    "* Tareas que demoren más de 2 minutos en ejecutarse recibirán nota 0.\n",
    "    * La fecha de entrega es el 17 de Junio a las **23:00 hrs**.  \n",
    "* Debe citar cualquier código ajeno utilizado (incluso si proviene de los Jupyter Notebooks del curso).\n",
    "* Puede agregar funciones extras siempre y cuando **no interfieran en las firmas** de las funciones principales establecidas.\n",
    "\n"
   ]
  },
  {
   "cell_type": "markdown",
   "metadata": {
    "id": "VG3aXJtTXetj"
   },
   "source": [
    "# Contexto\n",
    "\n",
    "Dentro del mundo de la Computación Científica hacemos uso de propiedades matemáticas para realizar cálculos numéricos; cálculos que si se hacen de otra forma, por ejemplo, a lápiz o papel, nos sería costoso o imposibles de realizar.\n",
    "Un ejemplo de lo anterior surge naturalmente con la necesidad de generar una función tal que pase por los puntos $(x_i, y_i)$ que se le indiquen en un plano cartesiano tradicional; existen algoritmos que nos generan esta función anhelada, que resulta ser un polinomio,  y al proceso de crear este polinomio se le llama interpolación. La interpolación como tal es usada en procesamiento de imágenes, medicina, mecánica, climatología, y un sin fin de situaciones en donde tengamos datos $x_i$ con sus respectivos outputs $y_i$ y se quiere hacer estimaciones de los resultados en puntos desconocidos.\n",
    "\n",
    "Por otro lado, existen funciones que para ser evaluadas en un computador requieren el uso de muchas operaciones elementales, una de ellas es la función Gamma, denotada por $\\Gamma(z)$, la cual es una generalización del concepto de factorial a los números complejos, la definición de esta para números complejos con parte real positiva está dada por la siguiente integral,\n",
    "$$\\Gamma (z)=\\int _{0}^{\\infty }t^{z-1}e^{-t}\\;dt.$$\n",
    "\n",
    "La función Gamma tiene aplicaciones en las áreas de la Física, Estadística, procesos estocásticos, biología, entre otras. \n",
    "Su relación con el cálculo del factorial está dada por la siguiente ecuación,\n",
    "$${\\displaystyle \\Gamma (n)=(n-1)!}.$$\n",
    "Es decir, $\\Gamma(6)=(6-1)!=120$."
   ]
  },
  {
   "cell_type": "markdown",
   "metadata": {
    "id": "rpi0Oe7aZ4fx"
   },
   "source": [
    "# Objetivo de la tarea\n",
    "\n",
    "Hay muchas fórmulas, además de la integral de Euler de segundo tipo, para representar la función gamma. Si consideramos que $z$ es puramente real y la denotamos como $x$, entonces cuando $x>0$ la representación de $\\Gamma(x)$, que utilizaremos en la tarea, será la siguiente:\n",
    "$$\\Gamma (x)=\\int _{0}^{1}\\left(\\ln{\\frac {1}{t}}\\right)^{x-1}dt.$$\n",
    "Ahora considere la siguiente función,\n",
    "\\begin{equation}\n",
    "\\phi(y)=\\int_1^y\\Gamma(x)\\,dx.\n",
    "\\end{equation}\n",
    "Es decir, la integral de la función $\\Gamma(x)$ entre $1$ e $y$.\n",
    "Más aún, consideraremos que $1 \\leq y \\leq 10$.\n",
    "\n",
    "En esta tarea estudiaremos distintos algoritmos para implementar la evaluación de $\\phi(y)$.\n",
    "En particular usaremos interpolación polinomial con puntos de Chebyshev.\n",
    "\n",
    "El objetivo principal de esta tarea es demostrar empíricamente la utilidad de un polinomio interpolador para hacer aproximaciones numérica de funciones conocidas. \n",
    "Notar que hacemos cálculo de integrales, tema que aún no se ve en el curso de Computación Científica, sin embargo, se proveen explícitamente las funciones en _scipy_ que hacen estos cálculos, por lo que no es necesario saber integración numérica, solo se debe llamar la función definida en el presente notebook.\n"
   ]
  },
  {
   "cell_type": "markdown",
   "metadata": {
    "id": "Cj2SnHK6gNuI"
   },
   "source": [
    "# Contenido de la tarea\n",
    "\n",
    "+ **Librerías útiles**: provee las librerías y rutinas básicas para el desarrollo de la tarea, por supuesto usted puede agregar más si lo considera necesario.\n",
    "\n",
    "+ **Funciones base obligatorias**: contiene la implementación de funciones y operaciones necesarias para el desarrollo de la tarea.\n",
    "\n",
    "+ **Preguntas de desarrollo**: en esta sección se describen los algoritmos en términos de su lógica, su input y su output en una celda de texto, respectivamente. \n",
    "Inmediatamente a continuación usted deberá implementar dicho algoritmo en la celda de código, para el cual está previamente indicada la firma de la función junto con su input y su output.\n",
    "  + **Pregunta 1** [10 puntos]: Cálculo de $\\phi(y)$ usando directamente la función *Gamma* en el rango $[1, y]$, a esta implementación se le denotará $\\phi_1(y)$.\n",
    "  + **Pregunta 2** [15 puntos]: Creación de un polinomio interpolador de la función *Gamma* en el rango $[1, y]$.\n",
    "  + **Pregunta 3** [15 puntos]: Creación de un polinomio interpolador de la función *Gamma* en el rango $[1, 10]$.\n",
    "  + **Pregunta 4** [15 puntos]: Cálculo de $\\phi(y)$ usando un polinomio interpolador en el rango $[1, y]$, a esta implementación se le denotará $\\phi_2(y)$.\n",
    "  + **Pregunta 5** [15 puntos]: Cálculo de $\\phi(y)$ usando un polinomio interpolador en el rango $[1, 10]$, a esta implementación se le denotará $\\phi_3(y)$.\n",
    "  + **Pregunta 6** [30 puntos]: Creación de un algoritmo que evalúa los algoritmos creados en pregunta 1, pregunta 4 y pregunta 5.\n",
    "\n",
    "+ **Preguntas de alternativa** [10 puntos]: en esta sección se pide escoger una respuesta consistente con los resultados obtenidos en las preguntas de desarrollo, y retornar el valor del diccionario con la alternativa correcta como llave."
   ]
  },
  {
   "cell_type": "markdown",
   "metadata": {
    "id": "w5itZS0Q14Eb"
   },
   "source": [
    "# Consideraciones\n",
    "\n",
    "Asuma que se ingresaran *inputs* validos para las preguntas de desarrollo, es decir se puede prescindir o obviar las siguientes situaciones:\n",
    "+ Integrales con limite inferior 1, no se ingresara algun limite superior menor a 1.\n",
    "+ Al calcular Gamma(x) no se ingresaran numeros $x$ tal que $x\\leq0$.\n",
    "+ No se ingresara un $n$ (puntos de Chebyshev) tal que la función colapse o genere overflow.\n",
    "+ No se ingresara un $m$ (pregunta 6) grande tal que la función colapse o genere overflow.\n",
    "+ No se ingresara $m<1$ (pregunta 6)."
   ]
  },
  {
   "cell_type": "markdown",
   "metadata": {
    "id": "f_V8HkDreOTJ"
   },
   "source": [
    "## Librerías útiles"
   ]
  },
  {
   "cell_type": "code",
   "execution_count": 1,
   "metadata": {
    "id": "0n0TMKodw2Cn"
   },
   "outputs": [],
   "source": [
    "import scipy as sp\n",
    "from scipy import integrate\n",
    "from scipy import special\n",
    "from scipy import interpolate\n",
    "import numpy as np\n",
    "import time"
   ]
  },
  {
   "cell_type": "markdown",
   "metadata": {
    "id": "lwokI34yecw3"
   },
   "source": [
    "## Funciones base obligatorias"
   ]
  },
  {
   "cell_type": "code",
   "execution_count": 2,
   "metadata": {
    "id": "B57t7qRayntm"
   },
   "outputs": [],
   "source": [
    "# La siguiente función integra la función 'func' recibida como parámetro.\n",
    "# desde el límite inferior 'a' hasta el límite superior 'b'.\n",
    "# Importante: NO modificar los parámetros de la función\n",
    "\n",
    "\"\"\"\n",
    "input\n",
    "func   : (function) función que se desea integrar y debe ser vectorizada, esto significa \n",
    "          que si se le pasa un vector 'x', la función debe retornar la evaluación de 'func'\n",
    "          para cada elemento del vector 'x'.\n",
    "a      : (double) límite inferior de integración\n",
    "b      : (double) límite superior de integración\n",
    "output\n",
    "       : (double) resultado de la integral entre a y b de la función func\n",
    "\"\"\"\n",
    "def super_integrate(func, a, b):\n",
    "    return sp.integrate.fixed_quad(func=func, a=a, b=b, n=1e3)[0]"
   ]
  },
  {
   "cell_type": "markdown",
   "metadata": {
    "id": "KnFCn_kk0AuW"
   },
   "source": [
    "```python\n",
    "# Ejemplo de uso de super_integrate(func, a, b)\n",
    "func = lambda x: x**2\n",
    "resultado = super_integrate(func, 1, 3)\n",
    "print(resultado)\n",
    ">>>8.666666666666398\n",
    "# Lo cual corresponde a la integral entre 1 y 3 de 'x' al cuadrado.\n",
    "```"
   ]
  },
  {
   "cell_type": "code",
   "execution_count": 3,
   "metadata": {
    "id": "GzzEEel7tXa6"
   },
   "outputs": [],
   "source": [
    "# La siguiente función calcula el valor de Gamma para un escalar 'x'.\n",
    "\n",
    "# ATENCIÓN! Esta función es solo para el correcto funcionamiento\n",
    "# de la siguiente función 'gamma_repre', y NO debe ser llamada directamente.\n",
    "def gamma_def(x):\n",
    "    inner_gamma = lambda t,y: np.log(1/t)**(y-1)\n",
    "    return sp.integrate.quad(func=lambda t: inner_gamma(t,x), a=0, b=1)[0]\n",
    "\n",
    "# La siguiente función calcula el valor de Gamma para un vector x_i >= 1\n",
    "\n",
    "# ATENCIÓN! Cada vez que necesite calcular el valor de 'Gamma' para un input 'x',\n",
    "# usted deberá llamar a la siguiente función:\n",
    "\"\"\"\n",
    "input\n",
    "x     : (numpy array) valores de x\n",
    "output\n",
    "gammas: (numpy array) valores de Gamma(x)\n",
    "\"\"\"\n",
    "def gamma_repre(x):    \n",
    "    gammas = np.vectorize(gamma_def)(x)\n",
    "    return gammas"
   ]
  },
  {
   "cell_type": "markdown",
   "metadata": {
    "id": "kaXke2yNz2A6"
   },
   "source": [
    "```python\n",
    "# Ejemplo de uso de gamma_repre(x):\n",
    "nums = np.array([1,2,3,4,5])\n",
    "facts = gamma_repre(nums)\n",
    "print(facts)\n",
    ">>>[ 1.  1.  2.  6. 24.]\n",
    "# Lo cual correponde a: [0!, 1!, 2!, 3!]\n",
    "```"
   ]
  },
  {
   "cell_type": "markdown",
   "metadata": {
    "id": "yyR4L0rRoQ2F"
   },
   "source": [
    "## Preguntas de Desarrollo"
   ]
  },
  {
   "cell_type": "markdown",
   "metadata": {
    "id": "LiJXXRJg5ksT"
   },
   "source": [
    "### Pregunta 1: (10 puntos)\n",
    "\n",
    "Diseñe un algoritmo que reciba como **input** el parametro $y$, y nos entregue como **output** un escalar correspondiente al resultado de la integral de gamma entre $1$ y $y$. Se debe calcular la función gamma directamente con *gamma_repre* que se entrega definida en el presente notebook. Para integrar *gamma_repre* use la funcion entregada *super_integrate* que recibe como parámetro *gamma_repre* y los rangos que se piden.\n",
    "\n",
    "Ejemplo:\n",
    "\n",
    "Si  quisieramos construir la siguiente función: $g(y)=\\int_1^y x\\,dx$, entonces se implementaria como:\n",
    "```python\n",
    "def g(y):\n",
    "  g = lambda x: x\n",
    "  return super_integrate(func = g, a = 1, b = y)\n",
    "```\n",
    "\n",
    "Ahora, para esta pregunta, si el **input** es: $y = \\sqrt{2}$, el **output** es un escalar tal que: result $= \\int_{1}^{\\sqrt{2}} \\Gamma(x)dx\\approx0.3832333$.\n",
    "\n",
    "**Nota**: Notar que hay un input extra: $n$, ignorar este parámetro para este caso."
   ]
  },
  {
   "cell_type": "code",
   "execution_count": 4,
   "metadata": {
    "id": "wHhPNBH712bt"
   },
   "outputs": [],
   "source": [
    "\"\"\"\n",
    "input\n",
    "y : (double) límite superior de integración\n",
    "n : (int) parametro Dummy para coherencia con otras funciones. Nota:Ignorar.\n",
    "output\n",
    "result      : (double) resultado de la integral de gamma_repre(x) entre 1 and y\n",
    "\"\"\"\n",
    "def phi1(y, n=1):\n",
    "    #\n",
    "    # Aquí va su código    \n",
    "    #\n",
    "    result = super_integrate(gamma_repre, n, y)\n",
    "    return result"
   ]
  },
  {
   "cell_type": "markdown",
   "metadata": {
    "id": "qfTl_qXn9R9_"
   },
   "source": [
    "### Pregunta 2: (15 puntos)\n",
    "\n",
    "Diseñe una función que reciba como **input**:   $y$,  $n$, y nos entregue como resultado el polinomio interpolador de $\\Gamma(x)$, para $1 \\leq x \\leq y$ usando $n$ puntos de Chebyshev. \n",
    "Para obtener los $y_i$ correspondientes a $\\Gamma(x_i$) en los distintos $x_i$ se pide usar la funcion entregada en este notebook, y para crear el polinomio interpolador se recomienda usar la función de scipy: BarycentricInterpolator.\n",
    "\n",
    "La función debe retornar como **output** el polinomio interpolador de $\\Gamma(z)$ en el rango $[1, y]$."
   ]
  },
  {
   "cell_type": "code",
   "execution_count": 5,
   "metadata": {
    "id": "xF0pazDeVX2h"
   },
   "outputs": [],
   "source": [
    "\"\"\"\n",
    "input\n",
    "y           : (double) límite superior hasta donde se creara el polinomio interpolador\n",
    "n           : (int) cantidad de puntos de Chebyshev a utilizar en el intervalo [1, y]\n",
    "output\n",
    "interpolator: (callable) polinomio interpolador de gamma_repre(x) en el intervalo [1, y]\n",
    "\"\"\"\n",
    "def gamma_interpolator_var(y, n):\n",
    "    #\n",
    "    # Aquí va su código    \n",
    "    #\n",
    "\n",
    "    ns = np.arange(1,n+1)\n",
    "    x = np.cos((2*ns-1)*np.pi/(2*n))\n",
    "    x_i = (1+y)/2 + (y-1)*x/2\n",
    "    y_i = gamma_repre(x_i)\n",
    "    interpolator = interpolate.BarycentricInterpolator(x_i,y_i)\n",
    "    return interpolator"
   ]
  },
  {
   "cell_type": "markdown",
   "metadata": {
    "id": "Xf7kkPd30Q0R"
   },
   "source": [
    "```python\n",
    "# ATENCION!: Con (callable) se refiere a que se debe retornar una función, \n",
    "# clase, o método que nos pueda recibir un vector de números, y nos entregue un vector de números.\n",
    "# Ejemplo de uso para gamma_interpolator_var(y, n):\n",
    "nums = np.array([1,2,3,4,5])\n",
    "polinomio_interpolador = gamma_interpolator_var(5, 100)\n",
    "print(polinomio_interpolador(nums))\n",
    ">>>[ 1.  1.  2.  6. 24.]\n",
    "\n",
    "```"
   ]
  },
  {
   "cell_type": "markdown",
   "metadata": {
    "id": "buerlpav0-XK"
   },
   "source": [
    "### Pregunta 3: (15 puntos)\n",
    "\n",
    "Diseñe una función que reciba como **input**: $n$ y nos de como resultado un polinomio interpolador para $\\Gamma(x)$, $1 \\leq x \\leq 10$ usando $n$ puntos de Chebyshev. Para obtener los $y_i$ correspondientes a $\\Gamma(x_i$) en los distintos $x_i$ se pide usar la función entregada en este notebook, y para crear el polinomio interpolador se recomienda usar la función de scipy: BarycentricInterpolator.\n",
    "\n",
    "La función debe retornar como **output** el polinomio interpolador de $\\Gamma(z)$ en el rango $[1, 10]$."
   ]
  },
  {
   "cell_type": "code",
   "execution_count": 6,
   "metadata": {
    "id": "Qb2QWJu5aBMW"
   },
   "outputs": [],
   "source": [
    "\n",
    "\"\"\"\n",
    "input\n",
    "n           : (int) cantidad de puntos de Chebyshev a utilizar en el intervalo [1, 10]\n",
    "output\n",
    "interpolator: (callable) polinomio interpolador de gamma_repre(x) en el intervalo [1, 10]\n",
    "\"\"\"\n",
    "def gamma_interpolator_fixed(n):\n",
    "    #\n",
    "    # Aquí va su código    \n",
    "    #\n",
    "    ns = np.arange(1,n+1)\n",
    "    x = np.cos((2*ns-1)*np.pi/(2*n))\n",
    "    x_i = (11)/2 + (9)*x/2\n",
    "    y_i = gamma_repre(x_i)\n",
    "    interpolator = interpolate.BarycentricInterpolator(x_i,y_i)\n",
    "    return interpolator"
   ]
  },
  {
   "cell_type": "markdown",
   "metadata": {
    "id": "pvt1iBww1WHY"
   },
   "source": [
    "```python\n",
    "# Ejemplo de uso para gamma_interpolator_fixed(y, n):\n",
    "nums = np.array([1,2,3,4,5,6,7,8])\n",
    "polinomio_interpolador = gamma_interpolator_fixed(100)\n",
    "print(polinomio_interpolador(nums))\n",
    ">>>[9.99998011e-01 9.99999078e-01 2.00000182e+00 6.00000254e+00\n",
    " 2.39999995e+01 1.19999999e+02 7.20000005e+02 5.04000001e+03]\n",
    "#Que corresponden aproximadamente a : [0!, 1!, 2!, 3!, 4!, 5!, 6!, 7!]\n",
    "```"
   ]
  },
  {
   "cell_type": "markdown",
   "metadata": {
    "id": "sjdll3pl1SJJ"
   },
   "source": [
    "### Pregunta 4: (15 puntos)\n",
    "\n",
    "Diseñe un algoritmo que reciba como **input**: $n$, $y$, y nos entregue como **output** un escalar correspondiente al resultado de la integral de *gamma* entre $1$ y $y$. Se debe usar la función *gamma_interpolator_var* con $n$ puntos de Chebyshev y con parámetro $y=y$ para calcular la integral de *gamma*. Para integrar el polinomio interpolador use la función entregada *super_integrate* que recibe como parámetro *gamma_interpolator_var* y los rangos que se piden $([1,y])$."
   ]
  },
  {
   "cell_type": "code",
   "execution_count": 7,
   "metadata": {
    "id": "v37sdI-WfU83"
   },
   "outputs": [],
   "source": [
    "\"\"\"\n",
    "input\n",
    "y : (double) límite superior de integración\n",
    "n  : (int) cantidad de puntos de Chebyshev a considerar\n",
    "output\n",
    "results      : (double) resultado de la integral del polinomio que interpola gamma en [1, y], entre 1 and y\n",
    "\"\"\"\n",
    "def phi2(y, n):\n",
    "    #\n",
    "    # Aquí va su código    \n",
    "    #\n",
    "    result = super_integrate(gamma_interpolator_var(y,n),1,y)\n",
    "    return result"
   ]
  },
  {
   "cell_type": "markdown",
   "metadata": {
    "id": "GNYxiOOQr6uc"
   },
   "source": [
    "### Pregunta 5: (15 puntos)\n",
    "\n",
    "Diseñe un algoritmo que reciba como **input**: $inter$, $n$, $y$, y nos entregue como **output** un escalar correspondiente al resultado de la integral de *gamma* entre $1$ y $y$. El parámetro inter es el polinomio interpolador creado por la función *gamma_interpolator_fixed* con $n$ puntos de Chebyshev. Para integrar el polinomio interpolador (*inter*) use la función entregada *super_integrate* que recibe como parámetro *inter* y los rangos que se piden $([1,y])$."
   ]
  },
  {
   "cell_type": "code",
   "execution_count": 8,
   "metadata": {
    "id": "s55bC-dLr8An"
   },
   "outputs": [],
   "source": [
    "\"\"\"\n",
    "input\n",
    "inter: (calleable) polinomio interpolador de gamma entre [1, 10]\n",
    "y : (double) límite superior de integración\n",
    "n  : (int) cantidad de puntos de Chebyshev a considerar # Ignorar parametro\n",
    "output\n",
    "results      : (double) resultado de la integral del polinomio que interpola gamma en [1, 10], entre 1 and y\n",
    "\"\"\"\n",
    "def phi3(inter, y, n):\n",
    "    #\n",
    "    # Aquí va su código    \n",
    "    #\n",
    "    result = super_integrate(inter, 1, y)\n",
    "    return result"
   ]
  },
  {
   "cell_type": "markdown",
   "metadata": {
    "id": "adFikG44tQlr"
   },
   "source": [
    "### Pregunta 6: (30 puntos)\n",
    "\n",
    "Diseñe una función que reciba como **input**: *func*, $n$, $m$, en donde func es phi1, phi2, o phi3; $n$ es la cantidad de puntos de Chebyshev en caso de ser necesarios, y $m$ es un entero que nos indica la cantidad de puntos equiespaciados entre $2$ y $10$ incluyendo a $2$ y $10$. La función debe evaluar *func* para un $n$ dado, con límites de integración entre $1$ como límite de integración inferior fijo,  y todos los puntos en [2, 10] particionado a $m$ puntos. \n",
    "El **output** es un array con los resultados pedidos.\n",
    "\n",
    "+ Hint 1: linspace.\n",
    "\n",
    "+ Hint 2: Recuerde que phi3 solo crea una vez el polinomio, después solo evalúa.\n",
    "\n",
    "+ Hint 3: 'incluyendo a $2$ y $10$' . \n",
    "  + Ejemplo: $m = 9 \\rightarrow  [2, 3, 4, 5, 6, 7, 8, 9, 10]$\n",
    "  + Ejemplo: $m = 11 \\rightarrow  [ 2. ,  2.8,  3.6,  4.4,  5.2,  6. ,  6.8,  7.6,  8.4,  9.2, 10. ]$"
   ]
  },
  {
   "cell_type": "code",
   "execution_count": 9,
   "metadata": {
    "id": "fP85c4WDtRFA"
   },
   "outputs": [],
   "source": [
    "\"\"\"\n",
    "input\n",
    "func: (int) corresponde a phi1 si func = 1, phi2 si func = 2, o phi3 si func = 3.\n",
    "n  : (int) cantidad de puntos de Chebyshev a considerar, en caso de ser necesario.\n",
    "m : (int) cantidad de puntos equiespaciados a participar el intervalo [2, 10], límites inclusivos.\n",
    "output\n",
    "results      : (numpy array) resultados de la integral de func para los rangos dados\n",
    "\"\"\"\n",
    "def test_gammas(func, n, m):\n",
    "    #\n",
    "    # Aquí va su código    \n",
    "    #\n",
    "    inter = np.linspace(2,10,m)\n",
    "    results = np.array([])\n",
    "    if func == 1:\n",
    "        for i in inter:\n",
    "            results = np.append(results, phi1(i, 1))\n",
    "    if func == 2:\n",
    "        for i in inter:\n",
    "            results = np.append(results, phi2(i, n))\n",
    "    if func == 3:\n",
    "        gamma = gamma_interpolator_fixed(n)\n",
    "        for i in inter:\n",
    "            results = np.append(results, phi3(gamma,i, 1))\n",
    "    return results"
   ]
  },
  {
   "cell_type": "markdown",
   "metadata": {
    "id": "jzHCWT1AC3Tg"
   },
   "source": [
    "```python\n",
    "# Ejemplo de uso para test_gammas(func, n, m):\n",
    "\n",
    "results = test_gammas(2, 100, 4)\n",
    "print(results)\n",
    ">>> .. **\n",
    "```\n",
    "El print ..** debería ser un array con los resultados de la integración de la función phi2 en los limites pedidos, usando 100 puntos de Chebyshev y 4 puntos equiespaciados entre 2 y 10 inclusive.\n",
    "\n",
    "i.e: $results = [\\int_{1}^{2} \\Gamma(x)dx,  \\int_{1}^{4.66666667} \\Gamma(x)dx, \\int_{1}^{7.33333333} \\Gamma(x)dx,  \\int_{1}^{10} \\Gamma(x)dx]$"
   ]
  },
  {
   "cell_type": "markdown",
   "metadata": {
    "id": "0MnH9gNd1jOA"
   },
   "source": [
    "## Funciones para testing\n",
    "\n",
    "Las siguientes funciones ya estan implementadas y son para probar el código que se escribió."
   ]
  },
  {
   "cell_type": "code",
   "execution_count": 10,
   "metadata": {
    "id": "9-NSgkY99jDi"
   },
   "outputs": [],
   "source": [
    "\"\"\"\n",
    "input\n",
    "func : (int) corresponde a phi1 si func = 1, phi2 si func = 2, o phi3 si func = 3.\n",
    "n  : (int) cantidad de puntos de Chebyshev a considerar, en caso de ser necesario.\n",
    "m : (int) cantidad de puntos equiespaciados a participar el intervalo [2, 10], límites inclusivos.\n",
    "output\n",
    "tiempo      : (double) tiempo de computo de la llamada de func\n",
    "\"\"\"\n",
    "def timing(func, n, m):\n",
    "    if func < 1 or func > 3:\n",
    "        tiempo = -1\n",
    "    else:\n",
    "        start = time.time()\n",
    "        test_gammas(func, n, m)\n",
    "        end = time.time()\n",
    "        tiempo = end-start\n",
    "    return tiempo"
   ]
  },
  {
   "cell_type": "code",
   "execution_count": 11,
   "metadata": {
    "id": "YUUPaKPBD4Xg"
   },
   "outputs": [],
   "source": [
    "\"\"\"\n",
    "input\n",
    "n  : (int) cantidad de puntos de Chebyshev a considerar, en caso de ser necesario.\n",
    "m : (int) cantidad de puntos equiespaciados a participar el intervalo [2, 10], límites inclusivos.\n",
    "output\n",
    "winner      : (array) arreglo de métodos ordenado de más rápido a más lento\n",
    "ordered_times: (array) con los tiempos de cómputo de los algoritmo implementados en la pregunta 6, en el mismo orden que ganadores.\n",
    "\"\"\"\n",
    "def competencia(n,m):\n",
    "    times=np.zeros(3)\n",
    "    times[0]=timing(1, n, m)\n",
    "    times[1]=timing(2, n, m)\n",
    "    times[2]=timing(3, n, m)\n",
    "    ordered_index=np.argsort(times)\n",
    "    ordered_times=times[ordered_index]\n",
    "    winner=ordered_index+1\n",
    "    return winner, ordered_times"
   ]
  },
  {
   "cell_type": "markdown",
   "metadata": {
    "id": "4WumMTMC7u01"
   },
   "source": [
    "```python\n",
    "# Ejemplo de uso de competencia:\n",
    "ganadores, tiempos = competencia(20,20)\n",
    "print(ganadores)\n",
    "print(tiempos)\n",
    ">>> ... *\n",
    ">>> ... **\n",
    "# Lo que se imprime en * es la lista en orden descendente donde el primer elemento es el mejor algoritmo.\n",
    "#Lo que se imprime en ** es una lista con los tiempos que demoro en correr el algoritmo de la pregunta 6, en el mismo orden que ganadores.\n",
    "```"
   ]
  },
  {
   "cell_type": "markdown",
   "metadata": {
    "id": "citOI6I4CX_Y"
   },
   "source": [
    "## Preguntas de alternativa (10 puntos)"
   ]
  },
  {
   "cell_type": "markdown",
   "metadata": {
    "id": "kjhmilWDCZ1G"
   },
   "source": [
    "### Pregunta 1 (5 puntos)"
   ]
  },
  {
   "cell_type": "markdown",
   "metadata": {
    "id": "jAwi-qB47utf"
   },
   "source": [
    "\n",
    "\n",
    "A continuación se presentan 5 aseveraciones, de las cuales usted debe escoger la que mejor refleje los resultados obtenidos en las pregunta anterior. Para lo cual se dispone del diccionario resp que contiene las alternativas y usted debe retornar el diccionario con la clave de la alternativa escogida. Ejemplo de retorno:\n",
    "\n",
    "```python\n",
    "return resp[\"a\"]\n",
    "````\n"
   ]
  },
  {
   "cell_type": "code",
   "execution_count": 12,
   "metadata": {
    "id": "mpvqjgwQCEPt"
   },
   "outputs": [],
   "source": [
    "# Con respecto a su implementación de los algoritmos:\n",
    "def alternativa_1():\n",
    "    resp = {\n",
    "            \"a\" : \"phi1 es más rápido que phi2 y phi3 porque no construye un polinomio interpolador\",\n",
    "            \"b\" : \"phi2 es el más rápido, porque realiza la menor cantidad de operaciones elementales\",\n",
    "            \"c\" : \"phi2 es más rápido que phi3 porque realiza una menor cantidad de operaciones elementales cuando se evalúa más de 1 vez\",\n",
    "            \"d\" : \"phi3 es más rápido que phi2 porque construye el polinomio interpolador 1 sóla vez y luego solo lo utiliza\",\n",
    "            \"e\" : \"phi3 es más rápido que phi1 porque no evalúa la función Gamma cuando construye el polinomio interpolador ni cuando integra el polinomio interpolador\"\n",
    "    }\n",
    "    # Dentro de las comillas va la alternativa escogida a || b || c || d || e\n",
    "    return resp[\"d\"] # Debe reemplazar 'x' por la alternativa seleccioanda.\n"
   ]
  },
  {
   "cell_type": "markdown",
   "metadata": {
    "id": "XeTNAF2iClYV"
   },
   "source": [
    "### Pregunta 2 (5 puntos)\n",
    "A continuación se presentan 5 ordenes distintos de los tiempos de ejecución de los algoritmos phi1, phi2 y phi3 representados en listas con los números 1,2 y 3 respectivamente; de los cuales usted debe escoger el que mejor refleje los resultados obtenidos en las pregunta anteriores. Para lo cual se dispone del diccionario resp que contiene las alternativas y usted debe retornar el diccionario con la clave de la alternativa escogida. Ejemplo de retorno:\n",
    "\n",
    "```python\n",
    "return resp[\"a\"]\n",
    "```"
   ]
  },
  {
   "cell_type": "code",
   "execution_count": 13,
   "metadata": {
    "id": "_l9AGTpxCFiJ"
   },
   "outputs": [],
   "source": [
    "# Retornar la alternativa que se sustente en sus experimentos numéricos\n",
    "def alternativa_2():\n",
    "    resp = {\n",
    "            \"a\" : [1, 2, 3],\n",
    "            \"b\" : [1, 3, 2],\n",
    "            \"c\" : [2, 1, 3],\n",
    "            \"d\" : [2, 3, 1],\n",
    "            \"e\" : [3, 2, 1],\n",
    "            \"f\" : [3, 1, 2]\n",
    "    }\n",
    "    # Dentro de las comillas va la alternativa escogida a || b || c || d || e || f\n",
    "    return resp[\"e\"] # Debe reemplazar 'x' por la alternativa seleccioanda."
   ]
  }
 ],
 "metadata": {
  "colab": {
   "collapsed_sections": [],
   "name": "Publi_Tarea_3_Interpolacion.ipynb",
   "provenance": []
  },
  "kernelspec": {
   "display_name": "Python 3",
   "language": "python",
   "name": "python3"
  },
  "language_info": {
   "codemirror_mode": {
    "name": "ipython",
    "version": 3
   },
   "file_extension": ".py",
   "mimetype": "text/x-python",
   "name": "python",
   "nbconvert_exporter": "python",
   "pygments_lexer": "ipython3",
   "version": "3.9.1"
  }
 },
 "nbformat": 4,
 "nbformat_minor": 1
}
