{
 "cells": [
  {
   "cell_type": "markdown",
   "metadata": {
    "id": "aBPGOpUM11V1"
   },
   "source": [
    "\n",
    "<center>\n",
    "    <h1> INF285 - Computación Científica </h1>\n",
    "    <h1> Tarea N°1, V0.3 </h1>\n",
    "    \n",
    "</center>\n",
    "\n",
    "<p>\n",
    "\n",
    "</p>"
   ]
  },
  {
   "cell_type": "markdown",
   "metadata": {
    "id": "B7MCAVSDRk3l"
   },
   "source": [
    "## Instrucciones\n",
    "\n",
    "* La tarea es individual, sin embargo se invita a todos l@s estudiantes a que discutan entre ustedes las preguntas pero luego implementen de forma individual su tarea.\n",
    "* Las consultas sobre las tareas se deben realizar por medio de la plataforma Aula.\n",
    "* La tarea debe ser realizada en `Jupyter Notebook` (`Python3`).\n",
    "* Se evaluará la correcta utilización de librerias `NumPy`, `SciPy`, entre otras, así como la correcta implementación de algoritmos de forma vectorizada.\n",
    "* **No modifique la firma de las funciones** (a menos que se le diga lo contrario) y respete el output que se le exije. **En caso de no respetar esta regla la función se considerará errónea.**\n",
    "*  **El archivo de entrega debe denominarse ROL-tarea-numero.ipynb**. _De no respetarse este formato existirá un descuento de **50 puntos**_\n",
    "* La fecha de entrega es el jueves 6 de mayo a las **18:00 hrs**.  \n",
    "* Debe citar cualquier código ajeno utilizado (incluso si proviene de los Jupyter Notebooks del curso).\n",
    "* Puede agregar funciones extras siempre y cuando **no interfieran en las firmas** de las funciones principales establecidas."
   ]
  },
  {
   "cell_type": "markdown",
   "metadata": {
    "id": "PNhvmtRq2Orx"
   },
   "source": [
    "## Introducción \n",
    "\n",
    "En esta primera tarea de INF-285, versión 2021-1, estudiaremos la importancia de los primeros temas estudiados en el curso, los cuales son: Representación de Punto Flotante, Pérdida de Importancia, Errores de Cancelación y Búsqueda de Ceros. \n",
    "El desarrollo de cada uno de esos temas se presenta en una serie de preguntas donde deberá ir decidiendo, pregunta a pregunta, cómo cada uno de los temas se aplica.\n",
    "En general, los temas no se analizan por separado, sino de manera acoplada. \n",
    "Es muy importante que cada uno de los problemas sea analizado teóricamente primero, para luego poner su conocimiento en acción. \n",
    "Cada problema puede ser desarrollado de diversas formas, sin embargo, es muy importante determinar al final si el camino elegido resuelve la pregunta presentada.\n",
    "Es decir, debe aplicar la metodología IDEA!"
   ]
  },
  {
   "cell_type": "markdown",
   "metadata": {
    "id": "lAtn1U0qRg2S"
   },
   "source": [
    "## Problemas"
   ]
  },
  {
   "cell_type": "markdown",
   "metadata": {
    "id": "3znHUOxOUB0-"
   },
   "source": [
    "### 1. Simulador (60 ptos) \n",
    "\n",
    "Dada la familia de polinomios de grado 3 con la forma:\n",
    "\n",
    "\n",
    "\\begin{equation}\n",
    "f(x)=-1 + x + 2 A^2 x - 3 A^2 x^2 + A^2 x^3\n",
    "\\end{equation}\n",
    "\n",
    "Se pide implementar un algoritmo que reciba como parámetros el valor de $A$ (con $|A|>>1$), 'bits_mant' que corresponde a la cantidad de bits que tiene la mantisa y 'bits_exp' que corresponde a la cantidad de bits que tiene el exponente. \n",
    "El algoritmo se ejecutará en un computador ficticio que representa los números con esa cantidad de bits para el estándar de punto flotante IEEE. \n",
    "Debe controlar los casos especiales correctamente.\n",
    "Esta implementación debe calcular las raíces de $f$ sin pérdida de **importancia** con la cantidad de bits disponibles para la mantisa y la cantidad de bits para el exponente.\n",
    "Para obtener las raíces de $f$ usted debe encontrar de forma algebraica sus raíces y luego proponer un algoritmo basado en las _fórmulas_ obtenidas.\n",
    "\n",
    "El computador ficticio cuenta con las operaciones matemáticas necesarias para obtener las raíces. \n",
    "Considere como límites de bits para la mantisa en el intervalo $[2,52]$ y en el intervalo $[2,11]$ para los bits del exponente.\n",
    "\n",
    "Ejemplo:\n",
    "\n",
    "```python\n",
    "# Algoritmo de ejemplo\n",
    "a = 9819824.624837\n",
    "b = 148736.523476\n",
    "c = a+b\n",
    "\n",
    "# Implementación de ejemplo con Representación de Punto Flotante de 'bits_mant' bits en la mantisa y 'bits_exp' bits en el exponente.\n",
    "am = f_new_rep(9819824.624837,bits_mant,bits_exp) # Aproximar el input en la nueva representación.\n",
    "bm = f_new_rep(148736.523476,bits_mant,bits_exp) # Aproximar el input en la nueva representación.\n",
    "cm = f_suma(am,bm,bits_mant,bits_exp) # Aproximar el output de la suma y cada operación en la nueva representación.\n",
    "```\n"
   ]
  },
  {
   "cell_type": "code",
   "execution_count": 1,
   "metadata": {},
   "outputs": [],
   "source": [
    "import numpy as np\n",
    "import scipy\n",
    "import math\n"
   ]
  },
  {
   "cell_type": "code",
   "execution_count": 21,
   "metadata": {
    "id": "2efm5YD2UBGD"
   },
   "outputs": [],
   "source": [
    "#Transforma la parte entera del parámetro recibido a binario\n",
    "def EnteroAFlotante(num):\n",
    "    num = int(num)\n",
    "    flag = True\n",
    "    binario = \"\"\n",
    "    while flag:\n",
    "        resto = num%2\n",
    "        num = int(num/2)\n",
    "        if(resto == 1):\n",
    "            binario = binario + \"1\"\n",
    "        else:\n",
    "            binario = binario + \"0\"\n",
    "        if (num == 0):\n",
    "            flag = False\n",
    "    #print(binario[::-1])\n",
    "    return binario[::-1]\n",
    "\n",
    "#Transforma la parte decimal del parámetro recibido a binario\n",
    "#def DecimalAFlotante(num):\n",
    "    \n",
    "\n",
    "\"\"\"\n",
    "input\n",
    "x         : (double) valor a evaluar\n",
    "bits_mant : (int) cantidad de bits de la mantisa\n",
    "bits_exp  : (int) cantidad de bits del exponente\n",
    "output\n",
    "result      : (double) resultado obtenido\n",
    "\"\"\"\n",
    "def f_new_rep(x,bits_mant,bits_exp):\n",
    "    # Algoritmo de representación de punto flotante modificada.\n",
    "    return  result\n",
    "\n",
    "\"\"\"\n",
    "input\n",
    "n1        : (double) valor a sumar\n",
    "n2        : (double) valor a sumar\n",
    "bits_mant : (int) cantidad de bits de la mantisa\n",
    "bits_exp  : (int) cantidad de bits del exponente\n",
    "output\n",
    "result      : (double) resultado obtenido\n",
    "\"\"\"\n",
    "def f_suma(n1,n2,bits_mant,bits_exp):\n",
    "    #Algoritmo que calcula la suma de dos numeros manteniendo el estandar asignado\n",
    "    return result\n",
    "\n",
    "\"\"\"\n",
    "input\n",
    "n1        : (double) valor a multiplicar\n",
    "n2        : (double) valor a multiplicar\n",
    "bits_mant : (int) cantidad de bits de la mantisa\n",
    "bits_exp  : (int) cantidad de bits del exponente\n",
    "output\n",
    "result      : (double) resultado obtenido\n",
    "\"\"\"\n",
    "def f_multiplicacion(n1,n2,bits_mant,bits_exp):\n",
    "    #Algoritmo que calcula la multiplicación de dos numeros manteniendo el estandar asignado\n",
    "    return result\n",
    "\n",
    "\"\"\"\n",
    "input\n",
    "n1        : (double) valor a multiplicar\n",
    "n2        : (double) valor a multiplicar\n",
    "bits_mant : (int) cantidad de bits de la mantisa\n",
    "bits_exp  : (int) cantidad de bits del exponente\n",
    "output\n",
    "result      : (double) resultado obtenido\n",
    "\"\"\"\n",
    "def f_division(n1,n2,bits_mant,bits_exp):\n",
    "    #Algoritmo que calcula la división de dos numeros manteniendo el estandar asignado\n",
    "    return result\n",
    "\n",
    "\"\"\"\n",
    "input\n",
    "A         : (double) valor a evaluar\n",
    "bits_mant : (int) cantidad de bits de la mantisa\n",
    "bits_exp  : (int) cantidad de bits del exponente\n",
    "output\n",
    "x_roots      : (array) raices del polinomio ordenadas de menor a mayor\n",
    "\"\"\"\n",
    "def f_find_roots(A,bits_mant,bits_exp):\n",
    "    # Algoritmo para encontrar raíces de f(x).\n",
    "    return x_roots\n"
   ]
  },
  {
   "cell_type": "code",
   "execution_count": 22,
   "metadata": {},
   "outputs": [
    {
     "data": {
      "text/plain": [
       "'1001'"
      ]
     },
     "execution_count": 22,
     "metadata": {},
     "output_type": "execute_result"
    }
   ],
   "source": [
    "EnteroAFlotante(9)"
   ]
  },
  {
   "cell_type": "markdown",
   "metadata": {
    "id": "Nw-jJfD-VPMa"
   },
   "source": [
    "### Sinusoidal de Oreman (40 puntos)\n",
    "Considere la siguiente función en 3 variables:\n",
    "\\begin{equation}\n",
    "T(t,\\alpha,\\beta) = \\alpha\\cdot \\cos(t)+\\beta\\cdot \\sin(\\log(t)).\n",
    "\\end{equation}\n",
    "\n",
    "La cual permite calcular la temperatura de una cámara de ambiente dado los parámetros $\\alpha$ y $\\beta$ los cuales corresponden a las condiciones iniciales del experimento. \n",
    "Por otro lado $t$ representa el tiempo en días transcurridos desde que se inició.\n",
    "\n",
    "A usted le permiten utilizar la cámara por un tiempo limitado, para esto planea terminar a los 25 días pero debe asegurarse que las sustancias sean extraídas a temperatura 0.\n",
    "\n",
    "Cree un programa que reciba los parametros $\\alpha$ y $\\beta$ y que retorne el día en el cual deba ser extraído el material cumpliendo la condición de ser el día más cercano a 25 (ya sea antes o después).\n"
   ]
  },
  {
   "cell_type": "code",
   "execution_count": 32,
   "metadata": {
    "id": "x0rfc_-6JTrG"
   },
   "outputs": [
    {
     "data": {
      "text/plain": [
       "25.450422467911267"
      ]
     },
     "execution_count": 32,
     "metadata": {},
     "output_type": "execute_result"
    }
   ],
   "source": [
    "alpha = 1\n",
    "beta = 10\n",
    "\n",
    "f = lambda x: (alpha*np.cos(x)) + (beta*np.sin(np.log(x)))\n",
    "\n",
    "\"\"\"\n",
    "input\n",
    "alpha: (float) parametro alpha\n",
    "beta: (float) parametro beta\n",
    "tol: (float) tolerancia\n",
    "output\n",
    "root: (double) raiz obtenida\n",
    "\"\"\"\n",
    "\n",
    "def raiz_de_oreman(alpha, beta, tol = 1e-10):\n",
    "    a = 20\n",
    "    b = 40\n",
    "    bis1 = 25\n",
    "    bis2 = 25\n",
    "    resultado1 = 0\n",
    "    resultado2 = 0\n",
    "    fa = f(a)\n",
    "    fb = f(b)\n",
    "    fbis1 = f(bis1)\n",
    "    fbis2 = f(bis2)\n",
    "    #bisección hacia la derecha de 25\n",
    "    while((b-bis1)/2 > tol):\n",
    "        c = (bis1+b)/2\n",
    "        fc = f(c)\n",
    "        if ( fc == 0):\n",
    "            break\n",
    "        elif ( np.sign(fbis1*fc) < 0):\n",
    "            b = c\n",
    "            fb = fc\n",
    "        else:\n",
    "            bis1 = c\n",
    "            fbis1 = fc\n",
    "    resultado1 = (bis1+b)/2\n",
    "    #bisección hacia la izquierda de 25\n",
    "    while ((bis2-a)/2 > tol):\n",
    "        d = (bis2+a)/2\n",
    "        fd = f(d)\n",
    "        if ( fd == 0):\n",
    "            break\n",
    "        elif (np.sign(fa*fd) < 0):\n",
    "            bis2 = d\n",
    "            fbis2 = fd\n",
    "        else:\n",
    "            a = d\n",
    "            fa = fd\n",
    "    resultado2 = (bis2+a)/2\n",
    "    root1 = resultado1 - 25\n",
    "    root2 = 25 - resultado2\n",
    "    if ()\n",
    "    \n",
    "    root = (a+b)/2\n",
    "    # Su implementación.\n",
    "    return root\n",
    "\n",
    "raiz_de_oreman(1,10)"
   ]
  },
  {
   "cell_type": "markdown",
   "metadata": {
    "id": "gVOkWN_zrvR9"
   },
   "source": [
    "# Referencias\n",
    "\n",
    "Si corresponde"
   ]
  },
  {
   "cell_type": "code",
   "execution_count": null,
   "metadata": {},
   "outputs": [],
   "source": []
  }
 ],
 "metadata": {
  "colab": {
   "collapsed_sections": [],
   "name": "Tarea 1 Computacion Cientifica.ipynb",
   "provenance": [],
   "toc_visible": true
  },
  "kernelspec": {
   "display_name": "Python 3",
   "language": "python",
   "name": "python3"
  },
  "language_info": {
   "codemirror_mode": {
    "name": "ipython",
    "version": 3
   },
   "file_extension": ".py",
   "mimetype": "text/x-python",
   "name": "python",
   "nbconvert_exporter": "python",
   "pygments_lexer": "ipython3",
   "version": "3.9.4"
  }
 },
 "nbformat": 4,
 "nbformat_minor": 1
}
