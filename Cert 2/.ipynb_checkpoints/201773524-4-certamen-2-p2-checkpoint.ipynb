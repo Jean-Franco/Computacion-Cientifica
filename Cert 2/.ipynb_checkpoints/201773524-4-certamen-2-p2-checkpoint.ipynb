{
 "cells": [
  {
   "cell_type": "markdown",
   "id": "c095fe86",
   "metadata": {},
   "source": [
    "<center>\n",
    "    <img src=\"http://sct.inf.utfsm.cl/wp-content/uploads/2020/04/logo_di.png\" style=\"width:60%\">\n",
    "    <h1> INF285 - Computación Científica </h1>\n",
    "    <h2> Certamen 2 - P2</h2>\n",
    "    <h2> <a href=\"#acknowledgements\"> [S]cientific [C]omputing [T]eam </a> </h2>\n",
    "    <h2> Version: 1.00</h2>\n",
    "</center>"
   ]
  },
  {
   "cell_type": "markdown",
   "id": "fa965615",
   "metadata": {},
   "source": [
    "# No debe utilizar bibliotecas adicionales."
   ]
  },
  {
   "cell_type": "code",
   "execution_count": 1,
   "id": "06ac2f72",
   "metadata": {},
   "outputs": [],
   "source": [
    "import numpy as np\n",
    "# It may be useful to use the following implementation for polynomial interpolation!\n",
    "from scipy.interpolate import BarycentricInterpolator"
   ]
  },
  {
   "cell_type": "markdown",
   "id": "a7e452ca",
   "metadata": {},
   "source": [
    "# Pregunta 2 - desarrollo"
   ]
  },
  {
   "cell_type": "code",
   "execution_count": 3,
   "id": "6c66089c",
   "metadata": {},
   "outputs": [
    {
     "name": "stdout",
     "output_type": "stream",
     "text": [
      "[-0.102978    0.40662723]\n",
      "1.433780830483027\n"
     ]
    },
    {
     "data": {
      "text/plain": [
       "22"
      ]
     },
     "execution_count": 3,
     "metadata": {},
     "output_type": "execute_result"
    }
   ],
   "source": [
    "'''\n",
    "input:\n",
    "n     : (int) numero de puntos a utilizar en la interpolación\n",
    "\n",
    "output:\n",
    "pLog  : (callable) implementación de polinomio interpolador\n",
    "'''\n",
    "def interpolateLog(n):\n",
    "    # Your code\n",
    "    xmax = np.exp(1)\n",
    "    xmin = np.exp(-1)\n",
    "    ns = np.arange(1,n+1)\n",
    "    x = np.cos((2*ns-1)*np.pi/(2*n))\n",
    "    x_i = (xmin+xmax)/2 + (xmax-xmin)*x/2\n",
    "    y_i = np.log(x_i)\n",
    "    pLog = BarycentricInterpolator(x_i,y_i)\n",
    "    return pLog\n",
    "\n",
    "'''\n",
    "input:\n",
    "n               : (int) numero de puntos a utilizar en la interpolación\n",
    "\n",
    "output:\n",
    "discrete_error  : (float) error discreto de interpolación 'ErrorD'\n",
    "'''\n",
    "def ErrorD(n):\n",
    "    # Yout code\n",
    "    log = interpolateLog(n)\n",
    "    linspace = np.linspace(-1,1,100000)\n",
    "    linspace_exp = log(np.exp(linspace))\n",
    "    discrete_error = max(abs(linspace_exp - linspace))\n",
    "    return discrete_error\n",
    "\n",
    "'''\n",
    "input:\n",
    "threshold   : (float) umbral de máximo error permitido\n",
    "\n",
    "output:\n",
    "n           : (int) numero de puntos a utilizar en la interpolación\n",
    "'''\n",
    "def find_n_log(threshold):\n",
    "    # Your code\n",
    "    n = 0\n",
    "    for i in range(2,101):\n",
    "        if(ErrorD(i) < threshold):\n",
    "            n = i\n",
    "            return n\n",
    "    if (n == 0):\n",
    "        return -1\n"
   ]
  },
  {
   "cell_type": "code",
   "execution_count": null,
   "id": "2ba57a7e",
   "metadata": {},
   "outputs": [],
   "source": []
  }
 ],
 "metadata": {
  "kernelspec": {
   "display_name": "Python 3",
   "language": "python",
   "name": "python3"
  },
  "language_info": {
   "codemirror_mode": {
    "name": "ipython",
    "version": 3
   },
   "file_extension": ".py",
   "mimetype": "text/x-python",
   "name": "python",
   "nbconvert_exporter": "python",
   "pygments_lexer": "ipython3",
   "version": "3.9.1"
  }
 },
 "nbformat": 4,
 "nbformat_minor": 5
}
