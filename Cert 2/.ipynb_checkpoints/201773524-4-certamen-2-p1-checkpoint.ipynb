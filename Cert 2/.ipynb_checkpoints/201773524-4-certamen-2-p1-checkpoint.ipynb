{
 "cells": [
  {
   "cell_type": "markdown",
   "id": "c095fe86",
   "metadata": {},
   "source": [
    "<center>\n",
    "    <img src=\"http://sct.inf.utfsm.cl/wp-content/uploads/2020/04/logo_di.png\" style=\"width:60%\">\n",
    "    <h1> INF285 - Computación Científica </h1>\n",
    "    <h2> Certamen 2 - P1</h2>\n",
    "    <h2> <a href=\"#acknowledgements\"> [S]cientific [C]omputing [T]eam </a> </h2>\n",
    "    <h2> Version: 1.00</h2>\n",
    "</center>"
   ]
  },
  {
   "cell_type": "markdown",
   "id": "fa965615",
   "metadata": {},
   "source": [
    "# No debe utilizar bibliotecas adicionales."
   ]
  },
  {
   "cell_type": "code",
   "execution_count": 1,
   "id": "06ac2f72",
   "metadata": {},
   "outputs": [],
   "source": [
    "import numpy as np"
   ]
  },
  {
   "cell_type": "markdown",
   "id": "d2c10bd1",
   "metadata": {},
   "source": [
    "# Pregunta 1 - datos"
   ]
  },
  {
   "cell_type": "code",
   "execution_count": 2,
   "id": "73c0ae31",
   "metadata": {},
   "outputs": [],
   "source": [
    "A0 = np.array([[0.5,0,20],[0,0.2,-4],[0,0,0]])\n",
    "A1 = np.array(\n",
    "    [[0.5, 0, 0.1, 0, -1],\n",
    "    [0, 0.2, -0.4, 1, 0],\n",
    "    [0, 1  , -2 , 0, 0],\n",
    "    [1, 2  , -3.8 , 2, 1],\n",
    "    [-1, 2, -4.2 , 2, -1]])\n",
    "A2 = np.load('./A2.npy')\n",
    "A3 = np.load('./A3.npy')"
   ]
  },
  {
   "cell_type": "markdown",
   "id": "a7e452ca",
   "metadata": {},
   "source": [
    "# Pregunta 1 - desarrollo"
   ]
  },
  {
   "cell_type": "code",
   "execution_count": 3,
   "id": "6c66089c",
   "metadata": {},
   "outputs": [],
   "source": [
    "'''\n",
    "input:\n",
    "A       : (ndarray) matriz de mxn\n",
    "delta   : (double) umbral para definir dependencia lineal\n",
    "\n",
    "output:\n",
    "li      : (ndarray) vector 'int64' con indices de columnas linealmente independientes\n",
    "'''\n",
    "def find_li_columns_indices(A,delta):\n",
    "    # Your own code. It may be useful to consider the modified Gram-Schmidt algorithm!\n",
    "    #El algoritmo se basa en el código de QR de los apuntes del curso, el cual fue modificado a conveniencia de\n",
    "    # la pregunta\n",
    "    li = []\n",
    "    A.astype('float')\n",
    "    m,n = A.shape\n",
    "    Q = np.zeros((m,n))\n",
    "    R = np.zeros((n,n))\n",
    "    for k in range(n):\n",
    "        y = A[:,k]\n",
    "        for i in range(k):\n",
    "            R[i,k] = np.dot(Q[:,i],y)\n",
    "            y=y-R[i,k]*Q[:,i]\n",
    "        R[k,k] = np.linalg.norm(y)\n",
    "        if (np.isclose(R[k,k],0,atol=delta)):\n",
    "            Q[:,k] = np.zeros(m)\n",
    "        else:\n",
    "            Q[:,k] = y/np.linalg.norm(R[k,k])\n",
    "            li.append(k)\n",
    "    li = np.array(li, dtype=np.int64)\n",
    "    return li"
   ]
  }
 ],
 "metadata": {
  "kernelspec": {
   "display_name": "Python 3",
   "language": "python",
   "name": "python3"
  },
  "language_info": {
   "codemirror_mode": {
    "name": "ipython",
    "version": 3
   },
   "file_extension": ".py",
   "mimetype": "text/x-python",
   "name": "python",
   "nbconvert_exporter": "python",
   "pygments_lexer": "ipython3",
   "version": "3.9.1"
  }
 },
 "nbformat": 4,
 "nbformat_minor": 5
}
